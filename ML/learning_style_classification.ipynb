{
  "cells": [
    {
      "cell_type": "code",
      "execution_count": 2,
      "metadata": {
        "id": "005JfdIuQjPk"
      },
      "outputs": [
        {
          "name": "stdout",
          "output_type": "stream",
          "text": [
            "   student_id                                          behaviors  \\\n",
            "0           1  [analyzes patterns, avoids participation, read...   \n",
            "1           2  [engages in role-play, likes variety, teaches ...   \n",
            "2           3  [sketches processes, takes detailed notes, col...   \n",
            "3           4  [uses videos and texts, observes demonstration...   \n",
            "4           5  [uses videos and texts, uses diagrams, watches...   \n",
            "\n",
            "  learning_style  \n",
            "0        Passive  \n",
            "1         Active  \n",
            "2     Multimodal  \n",
            "3        Passive  \n",
            "4         Visual  \n"
          ]
        }
      ],
      "source": [
        "import pandas as pd\n",
        "import random\n",
        "\n",
        "# Define learning styles and overlapping behaviors\n",
        "learning_styles = {\n",
        "    \"Visual\": [\n",
        "        \"uses diagrams\", \"color-codes notes\", \"sketches processes\", \"prefers charts\", \"watches videos\"\n",
        "    ],\n",
        "    \"Verbal\": [\n",
        "        \"reads aloud\", \"writes summaries\", \"uses mnemonics\", \"likes reading textbooks\", \"takes detailed notes\"\n",
        "    ],\n",
        "    \"Logical\": [\n",
        "        \"solves puzzles\", \"enjoys math\", \"analyzes patterns\", \"asks 'why' questions\", \"uses step-by-step instructions\"\n",
        "    ],\n",
        "    \"Active\": [\n",
        "        \"asks questions\", \"joins discussions\", \"teaches peers\", \"engages in role-play\", \"tries out examples\"\n",
        "    ],\n",
        "    \"Passive\": [\n",
        "        \"listens quietly\", \"observes demonstrations\", \"reflects silently\", \"avoids participation\", \"reads quietly\"\n",
        "    ],\n",
        "    \"Multimodal\": [\n",
        "        \"mixes diagrams and notes\", \"switches learning methods\", \"adapts easily\", \"uses videos and texts\", \"likes variety\"\n",
        "    ]\n",
        "}\n",
        "\n",
        "# Create a master behavior list (some overlap)\n",
        "all_behaviors = list(set(behavior for behaviors in learning_styles.values() for behavior in behaviors))\n",
        "\n",
        "def generate_realistic_student_profiles(n=500, noise_rate=0.05):\n",
        "    data = []\n",
        "    style_keys = list(learning_styles.keys())\n",
        "    for i in range(1, n + 1):\n",
        "        # Choose a primary style\n",
        "        style = random.choice(style_keys)\n",
        "        \n",
        "        # Pick 2 behaviors from that style\n",
        "        primary_behaviors = random.sample(learning_styles[style], 2)\n",
        "        \n",
        "        # Pick 1 behavior from a different style to simulate mixed learning\n",
        "        other_style = random.choice([s for s in style_keys if s != style])\n",
        "        mixed_behavior = random.choice(learning_styles[other_style])\n",
        "        \n",
        "        behaviors = primary_behaviors + [mixed_behavior]\n",
        "        random.shuffle(behaviors)\n",
        "        \n",
        "        # Simulate label noise\n",
        "        if random.random() < noise_rate:\n",
        "            style = random.choice([s for s in style_keys if s != style])\n",
        "        \n",
        "        data.append({\n",
        "            \"student_id\": i,\n",
        "            \"behaviors\": behaviors,\n",
        "            \"learning_style\": style\n",
        "        })\n",
        "    return pd.DataFrame(data)\n",
        "\n",
        "# Generate the data\n",
        "df = generate_realistic_student_profiles(n=500)\n",
        "print(df.head())\n"
      ]
    },
    {
      "cell_type": "markdown",
      "metadata": {},
      "source": [
        "Semantic Embedding"
      ]
    },
    {
      "cell_type": "code",
      "execution_count": 26,
      "metadata": {
        "colab": {
          "base_uri": "https://localhost:8080/"
        },
        "id": "MzGmWtCFQ22T",
        "outputId": "e1a07b08-ce66-444d-b30e-09c44bf2489c"
      },
      "outputs": [],
      "source": [
        "from sentence_transformers import SentenceTransformer\n",
        "\n",
        "model = SentenceTransformer('all-MiniLM-L6-v2')\n",
        "df[\"behavior_text\"] = df[\"behaviors\"].apply(lambda x: \" \".join(x))\n",
        "\n",
        "\n",
        "\n"
      ]
    },
    {
      "cell_type": "code",
      "execution_count": 28,
      "metadata": {},
      "outputs": [],
      "source": [
        "X = model.encode(df[\"behavior_text\"].tolist())\n",
        "\n",
        "y = df[\"learning_style\"].values\n",
        "\n",
        "from sklearn.model_selection import train_test_split\n",
        "\n",
        "X_train, X_test, y_train, y_test = train_test_split(\n",
        "    X, y, test_size=0.2, random_state=42\n",
        ")"
      ]
    },
    {
      "cell_type": "markdown",
      "metadata": {},
      "source": [
        "Random forest"
      ]
    },
    {
      "cell_type": "code",
      "execution_count": 29,
      "metadata": {},
      "outputs": [
        {
          "name": "stdout",
          "output_type": "stream",
          "text": [
            "              precision    recall  f1-score   support\n",
            "\n",
            "      Active       0.72      0.87      0.79        15\n",
            "     Logical       0.88      0.78      0.82        18\n",
            "  Multimodal       0.85      0.65      0.73        17\n",
            "     Passive       0.83      1.00      0.91        10\n",
            "      Verbal       0.86      0.86      0.86        22\n",
            "      Visual       0.95      1.00      0.97        18\n",
            "\n",
            "    accuracy                           0.85       100\n",
            "   macro avg       0.85      0.86      0.85       100\n",
            "weighted avg       0.85      0.85      0.85       100\n",
            "\n"
          ]
        }
      ],
      "source": [
        "\n",
        "from sklearn.ensemble import RandomForestClassifier\n",
        "from sklearn.metrics import classification_report\n",
        "\n",
        "model_rf = RandomForestClassifier(n_estimators=100, random_state=42)\n",
        "model_rf.fit(X_train, y_train)\n",
        "\n",
        "# Evaluate\n",
        "y_pred = model_rf.predict(X_test)\n",
        "\n",
        "print(classification_report(y_test,y_pred))"
      ]
    },
    {
      "cell_type": "markdown",
      "metadata": {},
      "source": [
        "SGD Classifier"
      ]
    },
    {
      "cell_type": "code",
      "execution_count": 33,
      "metadata": {},
      "outputs": [
        {
          "name": "stdout",
          "output_type": "stream",
          "text": [
            "              precision    recall  f1-score   support\n",
            "\n",
            "      Active       0.88      0.93      0.90        15\n",
            "     Logical       0.94      0.94      0.94        18\n",
            "  Multimodal       0.94      0.88      0.91        17\n",
            "     Passive       0.90      0.90      0.90        10\n",
            "      Verbal       0.95      0.86      0.90        22\n",
            "      Visual       0.90      1.00      0.95        18\n",
            "\n",
            "    accuracy                           0.92       100\n",
            "   macro avg       0.92      0.92      0.92       100\n",
            "weighted avg       0.92      0.92      0.92       100\n",
            "\n"
          ]
        }
      ],
      "source": [
        "from sklearn.linear_model import SGDClassifier\n",
        "from sklearn.metrics import classification_report\n",
        "\n",
        "# SGD\n",
        "sgd_model = SGDClassifier(loss='log_loss', max_iter=1000, random_state=42)\n",
        "sgd_model.fit(X_train, y_train)\n",
        "print(classification_report(y_test, sgd_model.predict(X_test)))"
      ]
    },
    {
      "cell_type": "markdown",
      "metadata": {},
      "source": [
        "OpenAI Classification"
      ]
    },
    {
      "cell_type": "code",
      "execution_count": null,
      "metadata": {},
      "outputs": [],
      "source": [
        "\n",
        "train_df, test_df = train_test_split(df, test_size=0.2, random_state=42)\n",
        "\n",
        "few_shot_examples = \"\"\n",
        "\n",
        "styles = train_df['learning_style'].unique()\n",
        "\n",
        "for style in learning_styles:\n",
        "    # Pick one random row with this learning style\n",
        "    example_row = train_df[train_df['learning_style'] == style].sample(1).iloc[0]\n",
        "    \n",
        "    example_behaviors = \", \".join(example_row['behaviors'])\n",
        "    example_style = example_row['learning_style']\n",
        "    \n",
        "    few_shot_examples += f\"Behaviors: {example_behaviors}\\nLearning style: {example_style}\\n\\n\""
      ]
    },
    {
      "cell_type": "code",
      "execution_count": 23,
      "metadata": {},
      "outputs": [],
      "source": [
        "from openai import OpenAI\n",
        "from dotenv import load_dotenv\n",
        "import os \n",
        "load_dotenv()\n",
        "client = OpenAI(api_key = os.getenv(\"OPENAI_API_KEY\"))\n",
        "def classify_with_few_shot(behaviors):\n",
        "    prompt = (\n",
        "        few_shot_examples +\n",
        "        f\"Given the examples above and the new set of {behaviors},  predict what is the student's primary learning style? Choose one from Visual, Verbal, Logical, Active, Passive, Multimodal.\\nAnswer with a single word (using the vocabulary of learning styles provided)\"\n",
        "    )\n",
        "    response = client.chat.completions.create(\n",
        "        model=\"gpt-4o-mini\",\n",
        "        messages=[{\"role\": \"user\", \"content\": prompt}],\n",
        "        temperature=0,\n",
        "        max_tokens=10\n",
        "    )\n",
        "    return response.choices[0].message.content.strip()\n",
        "\n",
        "test_df['predicted_style'] = test_df['behaviors'].apply(classify_with_few_shot)\n"
      ]
    },
    {
      "cell_type": "code",
      "execution_count": 25,
      "metadata": {},
      "outputs": [
        {
          "name": "stdout",
          "output_type": "stream",
          "text": [
            "              precision    recall  f1-score   support\n",
            "\n",
            "      Active       0.77      0.67      0.71        15\n",
            "     Logical       0.59      0.94      0.72        18\n",
            "  Multimodal       0.52      0.88      0.65        17\n",
            "     Passive       0.80      0.40      0.53        10\n",
            "      Verbal       0.73      0.36      0.48        22\n",
            "      Visual       0.77      0.56      0.65        18\n",
            "\n",
            "    accuracy                           0.64       100\n",
            "   macro avg       0.69      0.64      0.63       100\n",
            "weighted avg       0.69      0.64      0.62       100\n",
            "\n"
          ]
        }
      ],
      "source": [
        "y_test = test_df[\"learning_style\"]\n",
        "y_pred = test_df[\"predicted_style\"]\n",
        "print(classification_report(y_test,y_pred))"
      ]
    }
  ],
  "metadata": {
    "colab": {
      "provenance": []
    },
    "kernelspec": {
      "display_name": ".venv",
      "language": "python",
      "name": "python3"
    },
    "language_info": {
      "codemirror_mode": {
        "name": "ipython",
        "version": 3
      },
      "file_extension": ".py",
      "mimetype": "text/x-python",
      "name": "python",
      "nbconvert_exporter": "python",
      "pygments_lexer": "ipython3",
      "version": "3.12.1"
    }
  },
  "nbformat": 4,
  "nbformat_minor": 0
}
