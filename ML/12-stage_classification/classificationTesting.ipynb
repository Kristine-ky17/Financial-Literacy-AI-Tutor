{
 "cells": [
  {
   "cell_type": "code",
   "execution_count": null,
   "metadata": {
    "vscode": {
     "languageId": "plaintext"
    }
   },
   "outputs": [],
   "source": [
    "def classify_stage_with_openai(text):\n",
    "    prompt = f\"\"\"\n",
    "You are a classifier. Based on the following message, assign it to the most appropriate stage (0–5) based on the descriptions below:\n",
    "\n",
    "{chr(10).join([f\"{k}: {v}\" for k, v in stage_prompts.items()])}\n",
    "\n",
    "Message:\n",
    "{text}\n",
    "\n",
    "Reply with only the stage number (0–5).\n",
    "\"\"\"\n",
    "    try:\n",
    "        response = client.chat.completions.create(\n",
    "            model=\"gpt-3.5-turbo\",\n",
    "            messages=[{\"role\": \"user\", \"content\": prompt}],\n",
    "            temperature=0\n",
    "        )\n",
    "        return int(response.choices[0].message.content.strip())\n",
    "    except Exception as e:\n",
    "        print(f\"Error during classification: {e}\")\n",
    "        return -1  # Use -1 to indicate error\n",
    "\n",
    "GLOBAL_DF[\"classified_stage\"] = GLOBAL_DF[\"generated_response\"].apply(classify_stage_with_openai)\n"
   ]
  },
  {
   "cell_type": "code",
   "execution_count": null,
   "metadata": {
    "vscode": {
     "languageId": "plaintext"
    }
   },
   "outputs": [],
   "source": [
    "GLOBAL_DF[[\"stage\", \"classified_stage\"]].head()\n",
    "\n",
    "from sklearn.metrics import accuracy_score\n",
    "accuracy = accuracy_score(GLOBAL_DF[\"stage\"], GLOBAL_DF[\"classified_stage\"])\n",
    "print(f\"Classification Accuracy: {accuracy:.2%}\")\n",
    "\n",
    "from sklearn.metrics import classification_report\n",
    "\n",
    "print(classification_report(GLOBAL_DF[\"stage\"], GLOBAL_DF[\"classified_stage\"]))\n"
   ]
  }
 ],
 "metadata": {
  "language_info": {
   "name": "python"
  }
 },
 "nbformat": 4,
 "nbformat_minor": 2
}
