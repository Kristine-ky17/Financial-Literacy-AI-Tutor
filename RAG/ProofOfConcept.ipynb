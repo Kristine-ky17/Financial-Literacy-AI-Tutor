{
 "cells": [
  {
   "cell_type": "code",
   "execution_count": 5,
   "metadata": {},
   "outputs": [],
   "source": [
    "import os\n",
    "from langchain.embeddings import OpenAIEmbeddings\n",
    "from langchain.vectorstores import FAISS\n",
    "from dotenv import load_dotenv\n",
    "from utils import *\n",
    "from langchain.schema import Document\n",
    "\n",
    "load_dotenv()\n",
    "\n",
    "embeddings = OpenAIEmbeddings(openai_api_key=os.getenv(\"OPENAI_API_KEY\"))\n",
    "\n",
    "# all_texts = load_pdfs_from_folder(\"data/insurance\")\n",
    "# all_text_chunks = chunk_texts(all_texts)\n",
    "\n",
    "documents = list()\n",
    "for file in os.listdir(\"data/insurance\"):\n",
    "    all_texts = load_text_from_pdf(\"data/insurance/\" + file)\n",
    "    all_text_chunks = chunk_texts(all_texts)\n",
    "    documents.extend([\n",
    "        Document(page_content=chunk, metadata={\"source\": file, \"content\": \"insurance\"}) \n",
    "        for chunk in all_text_chunks\n",
    "    ])\n",
    "\n",
    "\n",
    "db = FAISS.from_documents(documents, embeddings)\n",
    "db.save_local(\"faiss_index\") \n"
   ]
  },
  {
   "cell_type": "code",
   "execution_count": 9,
   "metadata": {},
   "outputs": [
    {
     "name": "stdout",
     "output_type": "stream",
     "text": [
      "\n",
      "Answer: Insurance is a contract, represented by a policy, through which a policyholder receives financial protection or reimbursement against losses from an insurance company. The company pools clients' risks to make payments more manageable. Various types of insurance policies exist, such as auto, health, homeowners, and life insurance. Individuals and businesses can find an insurance company willing to provide coverage for a price. The core components of most insurance policies include the premium, deductible, and policy limits.\n",
      "\n",
      "sources: investopedia_insurance_1.pdf\n",
      "\n",
      "Answer: The main types of insurance are auto, health, homeowners, and life insurance.\n",
      "\n",
      "sources: investopedia_insurance_1.pdf, investopedia_insurance_2.pdf\n"
     ]
    }
   ],
   "source": [
    "from langchain.chat_models import ChatOpenAI\n",
    "\n",
    "load_dotenv()\n",
    "\n",
    "# embeddings = OpenAIEmbeddings(openai_api_key=os.getenv(\"OPENAI_API_KEY\"))\n",
    "llm = ChatOpenAI(openai_api_key=os.getenv(\"OPENAI_API_KEY\"), model_name=\"gpt-4o\")\n",
    "\n",
    "db = FAISS.load_local(\n",
    "    \"faiss_index\", \n",
    "    embeddings, \n",
    "    allow_dangerous_deserialization = True\n",
    "    )\n",
    "\n",
    "def ask(query):\n",
    "    docs = db.similarity_search(query, k=3)\n",
    "\n",
    "    context = \"\\n\\n\".join(doc.page_content for doc in docs)\n",
    "    \n",
    "    prompt = f\"\"\"Answer the question based only on the context below.\n",
    "\n",
    "Context:\n",
    "{context}\n",
    "\n",
    "Question: {query}\"\"\"\n",
    "\n",
    "    response = llm.predict(prompt)\n",
    "\n",
    "    source_list = set()\n",
    "    for doc in docs:\n",
    "        source_list.add(doc.metadata[\"source\"])\n",
    "    \n",
    "    source_list = list(source_list)\n",
    "    source_str = \", \".join(source_list)\n",
    "    \n",
    "    response += f\"\\n\\nsources: {source_str}\"\n",
    "\n",
    "    return response\n",
    "\n",
    "if __name__ == \"__main__\":\n",
    "    q = \"what is insurance and how does it work?\"\n",
    "    print(\"\\nAnswer:\", ask(q))\n",
    "    q = \"What are the main types of insurance?\"\n",
    "    print(\"\\nAnswer:\", ask(q))\n"
   ]
  },
  {
   "cell_type": "code",
   "execution_count": null,
   "metadata": {},
   "outputs": [],
   "source": []
  }
 ],
 "metadata": {
  "kernelspec": {
   "display_name": "env",
   "language": "python",
   "name": "python3"
  },
  "language_info": {
   "codemirror_mode": {
    "name": "ipython",
    "version": 3
   },
   "file_extension": ".py",
   "mimetype": "text/x-python",
   "name": "python",
   "nbconvert_exporter": "python",
   "pygments_lexer": "ipython3",
   "version": "3.12.7"
  }
 },
 "nbformat": 4,
 "nbformat_minor": 2
}
